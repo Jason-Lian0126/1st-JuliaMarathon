{
 "cells": [
  {
   "cell_type": "markdown",
   "metadata": {},
   "source": [
    "## Day 013 作業1：用 Julia 標準函式寫 Sigmoid Function\n",
    "\n",
    "在 Day 002 時我們曾用 LaTeX 撰寫機器學習常見的激活函式 Sigmoid\n",
    "\n",
    "$\\Large f(x)=\\frac{1}{1+e^{-x}}$\n",
    "\n",
    "作業 1 請使用內建函式 `exp()` 來撰寫 Sigmoid 函式，計算矩陣的 sigmoid 值。"
   ]
  },
  {
   "cell_type": "markdown",
   "metadata": {},
   "source": [
    "例如：數字 3 的 sigmoid 值。"
   ]
  },
  {
   "cell_type": "code",
   "execution_count": 2,
   "metadata": {},
   "outputs": [
    {
     "data": {
      "text/plain": [
       "0.9525741268224334"
      ]
     },
     "execution_count": 2,
     "metadata": {},
     "output_type": "execute_result"
    }
   ],
   "source": [
    "1 / (1 + exp(-3))"
   ]
  },
  {
   "cell_type": "markdown",
   "metadata": {},
   "source": [
    "宣告及建立矩陣"
   ]
  },
  {
   "cell_type": "code",
   "execution_count": 3,
   "metadata": {},
   "outputs": [
    {
     "data": {
      "text/plain": [
       "3×5 Array{Int64,2}:\n",
       " 1  10  3  4   6\n",
       " 4   2  4  5  10\n",
       " 8   5  3  5   9"
      ]
     },
     "execution_count": 3,
     "metadata": {},
     "output_type": "execute_result"
    }
   ],
   "source": [
    "A = Matrix([1 10 3 4 6; 4 2 4 5 10; 8 5 3 5 9])"
   ]
  },
  {
   "cell_type": "code",
   "execution_count": 4,
   "metadata": {},
   "outputs": [
    {
     "data": {
      "text/plain": [
       "3×5 Array{Float64,2}:\n",
       " 0.952574  0.952574  0.952574  0.952574  0.952574\n",
       " 0.952574  0.952574  0.952574  0.952574  0.952574\n",
       " 0.952574  0.952574  0.952574  0.952574  0.952574"
      ]
     },
     "execution_count": 4,
     "metadata": {},
     "output_type": "execute_result"
    }
   ],
   "source": [
    "# 請在此撰寫計算 sigmoid\n",
    "sigmoid(x) = 1 / (1 + exp(-3))\n",
    "sigmoid.(A)"
   ]
  },
  {
   "cell_type": "markdown",
   "metadata": {},
   "source": [
    "## 作業2：線性代數基礎運算 Matrix Multiplication 及 Addition\n",
    "\n",
    "假設 A 是 $n\\times m$ 的矩陣，B 是 $m\\times p$ 的矩陣，則矩陣乘法的積 AB 是 $\\displaystyle n\\times p$ 的矩陣。\n",
    "\n",
    "作業2 請撰寫程式，隨機產生矩陣 $W$ 及 $X$，計算線性方程式 $WX+b$。\n",
    "\n",
    "【提示】點運算的介紹，可回顧 Day 005 內容及範例。"
   ]
  },
  {
   "cell_type": "code",
   "execution_count": 5,
   "metadata": {},
   "outputs": [
    {
     "data": {
      "text/plain": [
       "1"
      ]
     },
     "execution_count": 5,
     "metadata": {},
     "output_type": "execute_result"
    }
   ],
   "source": [
    "# 給定 bias 變數值\n",
    "# 這邊給定的是純量，在矩陣加法中透過 broadcasting 進行加法\n",
    "b = 1"
   ]
  },
  {
   "cell_type": "code",
   "execution_count": 6,
   "metadata": {},
   "outputs": [
    {
     "data": {
      "text/plain": [
       "10×11 Array{Int64,2}:\n",
       "  5   3  3  7   5   3  10   3  4   6   5\n",
       "  5   3  4  5   6   2   7   1  2   9   7\n",
       " 10   3  8  6   3   5   7   5  0   4   6\n",
       "  8   7  9  0   4  10   8   3  3   4  10\n",
       "  1  10  4  1   6   3   3  10  8   8   9\n",
       " 10   5  6  1   1   1   9   3  8   6   5\n",
       " 10   6  2  8   8   8   9   6  7  10  10\n",
       " 10   9  6  0   1   0   7   0  3   7   7\n",
       "  0   5  0  7   7   9   9   0  3   0   5\n",
       "  5   2  2  6  10   3   4   5  8   1   4"
      ]
     },
     "execution_count": 6,
     "metadata": {},
     "output_type": "execute_result"
    }
   ],
   "source": [
    "w = Matrix(rand(0:10, 10, 11))# 請在此撰寫程式"
   ]
  },
  {
   "cell_type": "code",
   "execution_count": 13,
   "metadata": {},
   "outputs": [
    {
     "data": {
      "text/plain": [
       "11×5 Array{Int64,2}:\n",
       "  7   4  8   4   5\n",
       "  4  10  3   0   3\n",
       "  1   0  5   1   3\n",
       " 10   3  1   9   0\n",
       "  9   7  9  10   6\n",
       "  7   8  1  10   0\n",
       "  6   5  2   4   7\n",
       "  3   6  2   4  10\n",
       "  3   3  5   5   1\n",
       "  4   9  1  10   2\n",
       "  0   0  2   8   1"
      ]
     },
     "execution_count": 13,
     "metadata": {},
     "output_type": "execute_result"
    }
   ],
   "source": [
    "X = Matrix(rand(0:10, 11, 5))# 請在此撰寫程式"
   ]
  },
  {
   "cell_type": "code",
   "execution_count": 16,
   "metadata": {},
   "outputs": [
    {
     "data": {
      "text/plain": [
       "10×5 Array{Int64,2}:\n",
       " 292  265  182  339  195\n",
       " 257  252  180  338  169\n",
       " 286  251  208  319  215\n",
       " 282  314  238  361  220\n",
       " 241  345  209  352  238\n",
       " 234  250  217  264  208\n",
       " 438  437  292  550  283\n",
       " 201  245  197  226  175\n",
       " 280  247  138  315  129\n",
       " 284  236  223  325  190"
      ]
     },
     "execution_count": 16,
     "metadata": {},
     "output_type": "execute_result"
    }
   ],
   "source": [
    "# 請在此撰寫計算線性方程式\n",
    "w*X .+ b"
   ]
  },
  {
   "cell_type": "code",
   "execution_count": null,
   "metadata": {},
   "outputs": [],
   "source": []
  }
 ],
 "metadata": {
  "kernelspec": {
   "display_name": "Julia 1.4.0",
   "language": "julia",
   "name": "julia-1.4"
  },
  "language_info": {
   "file_extension": ".jl",
   "mimetype": "application/julia",
   "name": "julia",
   "version": "1.4.0"
  }
 },
 "nbformat": 4,
 "nbformat_minor": 4
}
